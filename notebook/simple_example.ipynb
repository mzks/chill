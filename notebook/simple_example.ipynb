{
 "cells": [
  {
   "cell_type": "markdown",
   "id": "f26a6324-0ae9-4e4c-a8d8-2c28397a24d2",
   "metadata": {},
   "source": [
    "# Initial example "
   ]
  },
  {
   "cell_type": "markdown",
   "id": "eef77a06-2a4d-4377-a2db-68963712fbe3",
   "metadata": {},
   "source": [
    "## example 1\n",
    "Three alminium plate connected thermal condactance"
   ]
  },
  {
   "cell_type": "code",
   "execution_count": 1,
   "id": "cbcafe37-87c6-4010-ad05-fc0caf8ca6ca",
   "metadata": {},
   "outputs": [],
   "source": [
    "import numpy as np\n",
    "import matplotlib.pyplot as plt\n",
    "from chill import Chill"
   ]
  },
  {
   "cell_type": "code",
   "execution_count": 2,
   "id": "322b61e7-5637-4ad2-aaa0-95ffcbd6aaca",
   "metadata": {},
   "outputs": [],
   "source": [
    "c = Chill()"
   ]
  },
  {
   "cell_type": "code",
   "execution_count": 3,
   "id": "f372653e-e296-4818-b1ad-3e48b08f6068",
   "metadata": {},
   "outputs": [],
   "source": [
    "# Alminium 1m * 1m * 1 cm\n",
    "rho = 2700\n",
    "c_p = 900\n",
    "A = 0.1 # m^2\n",
    "h = 0.01 # 1 cm\n",
    "C = rho * A * h * c_p  # J/K\n",
    "\n",
    "h_c = 100\n",
    "R = 1/(A*h_c)"
   ]
  },
  {
   "cell_type": "code",
   "execution_count": 4,
   "id": "02ddc08f-af31-4942-b6ea-932cce94a2a1",
   "metadata": {},
   "outputs": [
    {
     "data": {
      "text/plain": [
       "\u001b[0;31mSignature:\u001b[0m \u001b[0mc\u001b[0m\u001b[0;34m.\u001b[0m\u001b[0mdefine_node\u001b[0m\u001b[0;34m(\u001b[0m\u001b[0mtemperature\u001b[0m\u001b[0;34m:\u001b[0m \u001b[0mfloat\u001b[0m\u001b[0;34m,\u001b[0m \u001b[0mcapacity\u001b[0m\u001b[0;34m:\u001b[0m \u001b[0mfloat\u001b[0m\u001b[0;34m,\u001b[0m \u001b[0mname\u001b[0m\u001b[0;34m:\u001b[0m \u001b[0mstr\u001b[0m \u001b[0;34m=\u001b[0m \u001b[0;34m''\u001b[0m\u001b[0;34m)\u001b[0m \u001b[0;34m->\u001b[0m \u001b[0mchill\u001b[0m\u001b[0;34m.\u001b[0m\u001b[0mcore\u001b[0m\u001b[0;34m.\u001b[0m\u001b[0mNode\u001b[0m\u001b[0;34m\u001b[0m\u001b[0;34m\u001b[0m\u001b[0m\n",
       "\u001b[0;31mDocstring:\u001b[0m\n",
       "Defines a new node and adds it to the simulation.\n",
       "\n",
       "Args:\n",
       "    temperature (float): Initial temperature of the node [K].\n",
       "    capacity (float): Thermal capacity of the node [K/J].\n",
       "    name (str, optional): Name of the node. Defaults to an empty string.\n",
       "\n",
       "Returns:\n",
       "    Node: The created node object.\n",
       "\u001b[0;31mFile:\u001b[0m      ~/chill/chill/core.py\n",
       "\u001b[0;31mType:\u001b[0m      method\n"
      ]
     },
     "metadata": {},
     "output_type": "display_data"
    }
   ],
   "source": [
    "c.define_node?"
   ]
  },
  {
   "cell_type": "code",
   "execution_count": 5,
   "id": "029f0864-4de1-40ff-9f53-269d0ef8a962",
   "metadata": {},
   "outputs": [],
   "source": [
    "node0 = c.define_node(500, C)\n",
    "node1 = c.define_node(300, C)\n",
    "node2 = c.define_node(300, C)"
   ]
  },
  {
   "cell_type": "code",
   "execution_count": 6,
   "id": "056cb2ef-4184-46bb-9897-98f60394696b",
   "metadata": {},
   "outputs": [
    {
     "data": {
      "text/plain": [
       "\u001b[0;31mSignature:\u001b[0m\n",
       "\u001b[0mc\u001b[0m\u001b[0;34m.\u001b[0m\u001b[0mdefine_thermal_conduction\u001b[0m\u001b[0;34m(\u001b[0m\u001b[0;34m\u001b[0m\n",
       "\u001b[0;34m\u001b[0m    \u001b[0mnode0\u001b[0m\u001b[0;34m:\u001b[0m \u001b[0mchill\u001b[0m\u001b[0;34m.\u001b[0m\u001b[0mcore\u001b[0m\u001b[0;34m.\u001b[0m\u001b[0mNode\u001b[0m\u001b[0;34m,\u001b[0m\u001b[0;34m\u001b[0m\n",
       "\u001b[0;34m\u001b[0m    \u001b[0mnode1\u001b[0m\u001b[0;34m:\u001b[0m \u001b[0mchill\u001b[0m\u001b[0;34m.\u001b[0m\u001b[0mcore\u001b[0m\u001b[0;34m.\u001b[0m\u001b[0mNode\u001b[0m\u001b[0;34m,\u001b[0m\u001b[0;34m\u001b[0m\n",
       "\u001b[0;34m\u001b[0m    \u001b[0mconductance\u001b[0m\u001b[0;34m:\u001b[0m \u001b[0mfloat\u001b[0m\u001b[0;34m,\u001b[0m\u001b[0;34m\u001b[0m\n",
       "\u001b[0;34m\u001b[0m    \u001b[0mname\u001b[0m\u001b[0;34m:\u001b[0m \u001b[0mstr\u001b[0m \u001b[0;34m=\u001b[0m \u001b[0;34m''\u001b[0m\u001b[0;34m,\u001b[0m\u001b[0;34m\u001b[0m\n",
       "\u001b[0;34m\u001b[0m\u001b[0;34m)\u001b[0m \u001b[0;34m->\u001b[0m \u001b[0;32mNone\u001b[0m\u001b[0;34m\u001b[0m\u001b[0;34m\u001b[0m\u001b[0m\n",
       "\u001b[0;31mDocstring:\u001b[0m\n",
       "Defines a thermal conduction edge between two nodes.\n",
       "\n",
       "Args:\n",
       "    node0 (Node): One end of the conduction edge.\n",
       "    node1 (Node): The other end of the conduction edge.\n",
       "    conductance (float): Thermal conductance.\n",
       "    name (str, optional): Name of the edge. Defaults to an empty string.\n",
       "\u001b[0;31mFile:\u001b[0m      ~/chill/chill/core.py\n",
       "\u001b[0;31mType:\u001b[0m      method\n"
      ]
     },
     "metadata": {},
     "output_type": "display_data"
    }
   ],
   "source": [
    "c.define_thermal_conduction?"
   ]
  },
  {
   "cell_type": "code",
   "execution_count": 7,
   "id": "c14c4a55-7fa1-4309-b8ba-7b8b08c0123f",
   "metadata": {},
   "outputs": [],
   "source": [
    "c.define_thermal_conduction(node0, node1, R)\n",
    "c.define_thermal_conduction(node1, node2, R)"
   ]
  },
  {
   "cell_type": "code",
   "execution_count": 8,
   "id": "e71ea2b6-31b5-454b-864c-385ec1ec758f",
   "metadata": {},
   "outputs": [],
   "source": [
    "c.setup()"
   ]
  },
  {
   "cell_type": "code",
   "execution_count": 9,
   "id": "c9052fcd-e1f2-4ffe-9b83-e38a9089c928",
   "metadata": {},
   "outputs": [
    {
     "data": {
      "text/plain": [
       "\u001b[0;31mSignature:\u001b[0m \u001b[0mc\u001b[0m\u001b[0;34m.\u001b[0m\u001b[0mexecute\u001b[0m\u001b[0;34m(\u001b[0m\u001b[0mtotal_time\u001b[0m\u001b[0;34m:\u001b[0m \u001b[0mfloat\u001b[0m\u001b[0;34m,\u001b[0m \u001b[0mrecord_interval\u001b[0m\u001b[0;34m:\u001b[0m \u001b[0mfloat\u001b[0m \u001b[0;34m=\u001b[0m \u001b[0;36m0\u001b[0m\u001b[0;34m)\u001b[0m \u001b[0;34m->\u001b[0m \u001b[0;32mNone\u001b[0m\u001b[0;34m\u001b[0m\u001b[0;34m\u001b[0m\u001b[0m\n",
       "\u001b[0;31mDocstring:\u001b[0m\n",
       "execute the simulation for a specified time.\n",
       ":param total_time: simulation time\n",
       ":param record_interval: recording interval\n",
       "\u001b[0;31mFile:\u001b[0m      ~/chill/chill/core.py\n",
       "\u001b[0;31mType:\u001b[0m      method\n"
      ]
     },
     "metadata": {},
     "output_type": "display_data"
    }
   ],
   "source": [
    "c.execute?"
   ]
  },
  {
   "cell_type": "code",
   "execution_count": 10,
   "id": "34ad8ac3-a307-4e4b-9ae4-ec2a78ccb7cb",
   "metadata": {},
   "outputs": [
    {
     "name": "stdout",
     "output_type": "stream",
     "text": [
      "CPU times: user 17.6 ms, sys: 13.9 ms, total: 31.6 ms\n",
      "Wall time: 23.2 ms\n"
     ]
    }
   ],
   "source": [
    "%%time\n",
    "c.execute(6000, 1)"
   ]
  },
  {
   "cell_type": "code",
   "execution_count": 11,
   "id": "a8fab16c-42a6-4d29-9d6b-a79d3d5d190a",
   "metadata": {},
   "outputs": [],
   "source": [
    "temp = np.array(c.temperatures_history)\n",
    "time = np.array(c.times_history)"
   ]
  },
  {
   "cell_type": "code",
   "execution_count": 12,
   "id": "71ac8735-2355-4b97-98c7-d3f5bbd31d22",
   "metadata": {},
   "outputs": [
    {
     "data": {
      "text/plain": [
       "Text(0, 0.5, 'Temperature [K]')"
      ]
     },
     "execution_count": 12,
     "metadata": {},
     "output_type": "execute_result"
    },
    {
     "data": {
      "image/png": "[encoded data removed]",
      "text/plain": [
       "<Figure size 432x288 with 1 Axes>"
      ]
     },
     "metadata": {
      "needs_background": "light"
     },
     "output_type": "display_data"
    }
   ],
   "source": [
    "plt.plot(time, temp[:, 0])\n",
    "plt.plot(time, temp[:, 1])\n",
    "plt.plot(time, temp[:, 2])\n",
    "plt.xlabel('Time [s]')\n",
    "plt.ylabel('Temperature [K]')"
   ]
  },
  {
   "cell_type": "code",
   "execution_count": 13,
   "id": "0bb5ae53-d39b-4e8b-bc9b-0ba91bd4b2f7",
   "metadata": {},
   "outputs": [],
   "source": [
    "assert abs(c.temperatures[0] - c.temperatures[1]) < 1.e-3\n",
    "assert abs(c.temperatures[1] - c.temperatures[2]) < 1.e-3"
   ]
  },
  {
   "cell_type": "code",
   "execution_count": null,
   "id": "aa835c8e-c1a6-48e4-9bee-195be32a688a",
   "metadata": {},
   "outputs": [],
   "source": []
  },
  {
   "cell_type": "markdown",
   "id": "ce8cc615-20fa-4d4e-a00f-a8910a57ad0b",
   "metadata": {},
   "source": [
    "# example 2\n",
    "Define heater and radiator "
   ]
  },
  {
   "cell_type": "code",
   "execution_count": 14,
   "id": "84a263db-cdeb-4623-8894-a47894f0c35f",
   "metadata": {},
   "outputs": [],
   "source": [
    "c = Chill()\n",
    "heater = c.define_node(temperature=300, capacity=np.inf, name='heater')\n",
    "plate = c.define_node(temperature=300, capacity=C, name='plate')\n",
    "radiator = c.define_node(temperature=300, capacity=C, name='radiator')\n",
    "ambient = c.define_node(temperature=300, capacity=np.inf, name='ambient')\n",
    "\n",
    "c.define_thermal_input(heater, plate, 100)\n",
    "c.define_thermal_conduction(plate, radiator, R)\n",
    "E_G, epsilon = 1., 1.\n",
    "stefan_boltzman_constant = 5.670374419e-8\n",
    "c.define_thermal_radiation(radiator, ambient, E_G*epsilon*stefan_boltzman_constant*A)\n",
    "c.setup()"
   ]
  },
  {
   "cell_type": "code",
   "execution_count": 15,
   "id": "62401406-d27f-4b1c-81b1-380f638d2e21",
   "metadata": {},
   "outputs": [
    {
     "name": "stdout",
     "output_type": "stream",
     "text": [
      "CPU times: user 45.8 ms, sys: 3.22 ms, total: 49 ms\n",
      "Wall time: 49.5 ms\n"
     ]
    }
   ],
   "source": [
    "%%time\n",
    "c.execute(100000, 100)"
   ]
  },
  {
   "cell_type": "code",
   "execution_count": 16,
   "id": "74d66a04-ab6a-43e1-aef1-ad183ca56297",
   "metadata": {},
   "outputs": [
    {
     "data": {
      "text/plain": [
       "Text(0, 0.5, 'Temperature [K]')"
      ]
     },
     "execution_count": 16,
     "metadata": {},
     "output_type": "execute_result"
    },
    {
     "data": {
      "image/png": "[encoded data removed]",
      "text/plain": [
       "<Figure size 432x288 with 1 Axes>"
      ]
     },
     "metadata": {
      "needs_background": "light"
     },
     "output_type": "display_data"
    }
   ],
   "source": [
    "temp = np.array(c.temperatures_history)\n",
    "time = np.array(c.times_history) / 60. /60\n",
    "#plt.plot(time, temp[:, 0])\n",
    "plt.plot(time, temp[:, 1])\n",
    "plt.plot(time, temp[:, 2])\n",
    "#plt.plot(time, temp[:, 3])\n",
    "plt.xlabel('Time [hour]')\n",
    "plt.ylabel('Temperature [K]')"
   ]
  },
  {
   "cell_type": "code",
   "execution_count": null,
   "id": "ce031fae-3509-43e6-900e-f7d88d29439a",
   "metadata": {},
   "outputs": [],
   "source": []
  },
  {
   "cell_type": "code",
   "execution_count": null,
   "id": "e817bbc5-b0d4-4cfd-9dda-a8f2523c7337",
   "metadata": {},
   "outputs": [],
   "source": []
  },
  {
   "cell_type": "code",
   "execution_count": null,
   "id": "f84a7000-448a-463c-af04-d4bc663eee5e",
   "metadata": {},
   "outputs": [],
   "source": []
  }
 ],
 "metadata": {
  "kernelspec": {
   "display_name": "Python 3 (ipykernel)",
   "language": "python",
   "name": "python3"
  },
  "language_info": {
   "codemirror_mode": {
    "name": "ipython",
    "version": 3
   },
   "file_extension": ".py",
   "mimetype": "text/x-python",
   "name": "python",
   "nbconvert_exporter": "python",
   "pygments_lexer": "ipython3",
   "version": "3.8.13"
  }
 },
 "nbformat": 4,
 "nbformat_minor": 5
}
