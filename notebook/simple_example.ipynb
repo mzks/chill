{
 "cells": [
  {
   "cell_type": "markdown",
   "id": "f26a6324-0ae9-4e4c-a8d8-2c28397a24d2",
   "metadata": {},
   "source": [
    "# Initial example "
   ]
  },
  {
   "cell_type": "markdown",
   "id": "eef77a06-2a4d-4377-a2db-68963712fbe3",
   "metadata": {},
   "source": [
    "## example 1\n",
    "Three alminium plate connected thermal condactance"
   ]
  },
  {
   "cell_type": "code",
   "execution_count": 1,
   "id": "cbcafe37-87c6-4010-ad05-fc0caf8ca6ca",
   "metadata": {},
   "outputs": [],
   "source": [
    "import numpy as np\n",
    "import matplotlib.pyplot as plt\n",
    "from chill import Chill\n",
    "from chill.constants import *"
   ]
  },
  {
   "cell_type": "code",
   "execution_count": 2,
   "id": "322b61e7-5637-4ad2-aaa0-95ffcbd6aaca",
   "metadata": {},
   "outputs": [],
   "source": [
    "c = Chill()"
   ]
  },
  {
   "cell_type": "code",
   "execution_count": 3,
   "id": "87176c12-e4e7-4f6d-aab1-f0386c16ed21",
   "metadata": {},
   "outputs": [
    {
     "data": {
      "text/plain": [
       "\u001b[0;31mSignature:\u001b[0m\n",
       "\u001b[0mc\u001b[0m\u001b[0;34m.\u001b[0m\u001b[0mdefine_object\u001b[0m\u001b[0;34m(\u001b[0m\u001b[0;34m\u001b[0m\n",
       "\u001b[0;34m\u001b[0m    \u001b[0mmaterial_name\u001b[0m\u001b[0;34m,\u001b[0m\u001b[0;34m\u001b[0m\n",
       "\u001b[0;34m\u001b[0m    \u001b[0mtemperature\u001b[0m\u001b[0;34m,\u001b[0m\u001b[0;34m\u001b[0m\n",
       "\u001b[0;34m\u001b[0m    \u001b[0mvolume\u001b[0m\u001b[0;34m,\u001b[0m\u001b[0;34m\u001b[0m\n",
       "\u001b[0;34m\u001b[0m    \u001b[0mpressure\u001b[0m\u001b[0;34m=\u001b[0m\u001b[0;36m101325.0\u001b[0m\u001b[0;34m,\u001b[0m\u001b[0;34m\u001b[0m\n",
       "\u001b[0;34m\u001b[0m    \u001b[0mname\u001b[0m\u001b[0;34m=\u001b[0m\u001b[0;34m''\u001b[0m\u001b[0;34m,\u001b[0m\u001b[0;34m\u001b[0m\n",
       "\u001b[0;34m\u001b[0m\u001b[0;34m)\u001b[0m\u001b[0;34m\u001b[0m\u001b[0;34m\u001b[0m\u001b[0m\n",
       "\u001b[0;31mDocstring:\u001b[0m\n",
       "Defines a thermal node representing a specific object with given material properties.\n",
       "\n",
       "Args:\n",
       "    material_name (str): The name of the material (must be supported by the `thermo` library).\n",
       "    temperature (float): Initial temperature of the object.\n",
       "    volume (float): Volume of the object, used to calculate its specific heat capacity.\n",
       "    pressure (float, optional): Pressure of the system. Defaults to standard atmospheric pressure.\n",
       "    name (str): The name used for the node name\n",
       "\n",
       "Returns:\n",
       "    None\n",
       "\u001b[0;31mFile:\u001b[0m      ~/chill/chill/core.py\n",
       "\u001b[0;31mType:\u001b[0m      method\n"
      ]
     },
     "metadata": {},
     "output_type": "display_data"
    }
   ],
   "source": [
    "c.define_object?"
   ]
  },
  {
   "cell_type": "code",
   "execution_count": 4,
   "id": "9bbe84ce-b9d2-4d22-95a4-518165c9de52",
   "metadata": {},
   "outputs": [
    {
     "data": {
      "text/plain": [
       "\u001b[0;31mSignature:\u001b[0m\n",
       "\u001b[0mc\u001b[0m\u001b[0;34m.\u001b[0m\u001b[0mdefine_thermal_conduction\u001b[0m\u001b[0;34m(\u001b[0m\u001b[0;34m\u001b[0m\n",
       "\u001b[0;34m\u001b[0m    \u001b[0mnode0\u001b[0m\u001b[0;34m:\u001b[0m \u001b[0mchill\u001b[0m\u001b[0;34m.\u001b[0m\u001b[0mcore\u001b[0m\u001b[0;34m.\u001b[0m\u001b[0mNode\u001b[0m\u001b[0;34m,\u001b[0m\u001b[0;34m\u001b[0m\n",
       "\u001b[0;34m\u001b[0m    \u001b[0mnode1\u001b[0m\u001b[0;34m:\u001b[0m \u001b[0mchill\u001b[0m\u001b[0;34m.\u001b[0m\u001b[0mcore\u001b[0m\u001b[0;34m.\u001b[0m\u001b[0mNode\u001b[0m\u001b[0;34m,\u001b[0m\u001b[0;34m\u001b[0m\n",
       "\u001b[0;34m\u001b[0m    \u001b[0mconductance\u001b[0m\u001b[0;34m:\u001b[0m \u001b[0mfloat\u001b[0m\u001b[0;34m,\u001b[0m\u001b[0;34m\u001b[0m\n",
       "\u001b[0;34m\u001b[0m    \u001b[0mname\u001b[0m\u001b[0;34m:\u001b[0m \u001b[0mstr\u001b[0m \u001b[0;34m=\u001b[0m \u001b[0;34m''\u001b[0m\u001b[0;34m,\u001b[0m\u001b[0;34m\u001b[0m\n",
       "\u001b[0;34m\u001b[0m\u001b[0;34m)\u001b[0m \u001b[0;34m->\u001b[0m \u001b[0;32mNone\u001b[0m\u001b[0;34m\u001b[0m\u001b[0;34m\u001b[0m\u001b[0m\n",
       "\u001b[0;31mDocstring:\u001b[0m\n",
       "Defines a thermal conduction edge between two nodes.\n",
       "\n",
       "Args:\n",
       "    node0 (Node): One end of the conduction edge.\n",
       "    node1 (Node): The other end of the conduction edge.\n",
       "    conductance (float): Thermal conductance.\n",
       "    name (str, optional): Name of the edge. Defaults to an empty string.\n",
       "\u001b[0;31mFile:\u001b[0m      ~/chill/chill/core.py\n",
       "\u001b[0;31mType:\u001b[0m      method\n"
      ]
     },
     "metadata": {},
     "output_type": "display_data"
    }
   ],
   "source": [
    "c.define_thermal_conduction?"
   ]
  },
  {
   "cell_type": "code",
   "execution_count": 5,
   "id": "ca31755e-85ff-484f-883b-c2c8198ed98c",
   "metadata": {},
   "outputs": [],
   "source": [
    "object0 = c.define_object(\"Al\", 300*K, volume=10.*cm3)\n",
    "object1 = c.define_object(\"Al\", 300*K, volume=10.*cm3)\n",
    "object2 = c.define_object(\"Al\", 500*K, volume=10.*cm3)\n",
    "\n",
    "h_c = 100\n",
    "area = 10.*cm2\n",
    "heat_resistance = 1 / (h_c * area)\n",
    "c.define_thermal_conduction(object0, object1, heat_resistance)\n",
    "c.define_thermal_conduction(object1, object2, heat_resistance)"
   ]
  },
  {
   "cell_type": "code",
   "execution_count": 6,
   "id": "e71ea2b6-31b5-454b-864c-385ec1ec758f",
   "metadata": {},
   "outputs": [],
   "source": [
    "c.setup()"
   ]
  },
  {
   "cell_type": "code",
   "execution_count": 7,
   "id": "c9052fcd-e1f2-4ffe-9b83-e38a9089c928",
   "metadata": {},
   "outputs": [
    {
     "data": {
      "text/plain": [
       "\u001b[0;31mSignature:\u001b[0m \u001b[0mc\u001b[0m\u001b[0;34m.\u001b[0m\u001b[0mexecute\u001b[0m\u001b[0;34m(\u001b[0m\u001b[0mtotal_time\u001b[0m\u001b[0;34m:\u001b[0m \u001b[0mfloat\u001b[0m\u001b[0;34m,\u001b[0m \u001b[0mrecord_interval\u001b[0m\u001b[0;34m:\u001b[0m \u001b[0mfloat\u001b[0m \u001b[0;34m=\u001b[0m \u001b[0;36m0\u001b[0m\u001b[0;34m)\u001b[0m \u001b[0;34m->\u001b[0m \u001b[0;32mNone\u001b[0m\u001b[0;34m\u001b[0m\u001b[0;34m\u001b[0m\u001b[0m\n",
       "\u001b[0;31mDocstring:\u001b[0m\n",
       "execute the simulation for a specified time.\n",
       ":param total_time: simulation time\n",
       ":param record_interval: recording interval\n",
       "\u001b[0;31mFile:\u001b[0m      ~/chill/chill/core.py\n",
       "\u001b[0;31mType:\u001b[0m      method\n"
      ]
     },
     "metadata": {},
     "output_type": "display_data"
    }
   ],
   "source": [
    "c.execute?"
   ]
  },
  {
   "cell_type": "code",
   "execution_count": 8,
   "id": "34ad8ac3-a307-4e4b-9ae4-ec2a78ccb7cb",
   "metadata": {},
   "outputs": [
    {
     "name": "stderr",
     "output_type": "stream",
     "text": [
      "100%|███████████████████████████████████████████████████████████████████████████████████████████| 5000/5000 [00:00<00:00, 350653.27it/s]"
     ]
    },
    {
     "name": "stdout",
     "output_type": "stream",
     "text": [
      "CPU times: user 20.6 ms, sys: 32.2 ms, total: 52.8 ms\n",
      "Wall time: 4.22 s\n"
     ]
    },
    {
     "name": "stderr",
     "output_type": "stream",
     "text": [
      "\n"
     ]
    }
   ],
   "source": [
    "%%time\n",
    "c.execute(5000, 1)"
   ]
  },
  {
   "cell_type": "code",
   "execution_count": 9,
   "id": "a8fab16c-42a6-4d29-9d6b-a79d3d5d190a",
   "metadata": {},
   "outputs": [],
   "source": [
    "temp = np.array(c.temperatures_history)\n",
    "time = np.array(c.times_history)"
   ]
  },
  {
   "cell_type": "code",
   "execution_count": 10,
   "id": "8321a1e5-c323-4512-90c7-b949b7c2c9ce",
   "metadata": {},
   "outputs": [
    {
     "data": {
      "text/plain": [
       "[<matplotlib.lines.Line2D at 0x16761baf0>]"
      ]
     },
     "execution_count": 10,
     "metadata": {},
     "output_type": "execute_result"
    },
    {
     "data": {
      "image/png": "[encoded data removed]",
      "text/plain": [
       "<Figure size 432x288 with 1 Axes>"
      ]
     },
     "metadata": {
      "needs_background": "light"
     },
     "output_type": "display_data"
    }
   ],
   "source": [
    "plt.plot(time, temp[:,0])\n",
    "plt.plot(time, temp[:,1])\n",
    "plt.plot(time, temp[:,2])"
   ]
  },
  {
   "cell_type": "markdown",
   "id": "ce8cc615-20fa-4d4e-a00f-a8910a57ad0b",
   "metadata": {},
   "source": [
    "# example 2\n",
    "Define heater and radiator "
   ]
  },
  {
   "cell_type": "code",
   "execution_count": 11,
   "id": "fd34b368-fe2e-4982-ab16-2f9b3b7193a0",
   "metadata": {},
   "outputs": [
    {
     "data": {
      "text/plain": [
       "\u001b[0;31mSignature:\u001b[0m \u001b[0mc\u001b[0m\u001b[0;34m.\u001b[0m\u001b[0mdefine_node\u001b[0m\u001b[0;34m(\u001b[0m\u001b[0mtemperature\u001b[0m\u001b[0;34m:\u001b[0m \u001b[0mfloat\u001b[0m\u001b[0;34m,\u001b[0m \u001b[0mcapacity\u001b[0m\u001b[0;34m:\u001b[0m \u001b[0mfloat\u001b[0m\u001b[0;34m,\u001b[0m \u001b[0mname\u001b[0m\u001b[0;34m:\u001b[0m \u001b[0mstr\u001b[0m \u001b[0;34m=\u001b[0m \u001b[0;34m''\u001b[0m\u001b[0;34m)\u001b[0m \u001b[0;34m->\u001b[0m \u001b[0mchill\u001b[0m\u001b[0;34m.\u001b[0m\u001b[0mcore\u001b[0m\u001b[0;34m.\u001b[0m\u001b[0mNode\u001b[0m\u001b[0;34m\u001b[0m\u001b[0;34m\u001b[0m\u001b[0m\n",
       "\u001b[0;31mDocstring:\u001b[0m\n",
       "Defines a new node and adds it to the simulation.\n",
       "\n",
       "Args:\n",
       "    temperature (float): Initial temperature of the node [K].\n",
       "    capacity (float): Thermal capacity of the node [K/J].\n",
       "    name (str, optional): Name of the node. Defaults to an empty string.\n",
       "\n",
       "Returns:\n",
       "    Node: The created node object.\n",
       "\u001b[0;31mFile:\u001b[0m      ~/chill/chill/core.py\n",
       "\u001b[0;31mType:\u001b[0m      method\n"
      ]
     },
     "metadata": {},
     "output_type": "display_data"
    }
   ],
   "source": [
    "plate = c.define_node?"
   ]
  },
  {
   "cell_type": "code",
   "execution_count": 12,
   "id": "7bb500b1-5cdc-4a39-a631-676b0dfa0c4f",
   "metadata": {},
   "outputs": [
    {
     "data": {
      "text/plain": [
       "\u001b[0;31mSignature:\u001b[0m \u001b[0mc\u001b[0m\u001b[0;34m.\u001b[0m\u001b[0mdefine_heater\u001b[0m\u001b[0;34m(\u001b[0m\u001b[0mtarget_node\u001b[0m\u001b[0;34m,\u001b[0m \u001b[0mheat_input\u001b[0m\u001b[0;34m)\u001b[0m\u001b[0;34m\u001b[0m\u001b[0;34m\u001b[0m\u001b[0m\n",
       "\u001b[0;31mDocstring:\u001b[0m\n",
       "Defines a heater connected to the specified target node, simulating a constant heat input.\n",
       "\n",
       "Args:\n",
       "    target_node (Node): The node to which the heater is connected.\n",
       "    heat_input (float): The amount of heat input provided by the heater.\n",
       "\n",
       "Returns:\n",
       "    Node : The created node object (heater).\n",
       "\u001b[0;31mFile:\u001b[0m      ~/chill/chill/core.py\n",
       "\u001b[0;31mType:\u001b[0m      method\n"
      ]
     },
     "metadata": {},
     "output_type": "display_data"
    }
   ],
   "source": [
    "c.define_heater?"
   ]
  },
  {
   "cell_type": "code",
   "execution_count": 13,
   "id": "84a263db-cdeb-4623-8894-a47894f0c35f",
   "metadata": {},
   "outputs": [],
   "source": [
    "c = Chill()\n",
    "plate = c.define_object(\"Fe\", temperature=300*K, volume=10*cm3, name='plate')\n",
    "radiator = c.define_object(\"Cu\", temperature=300*K, volume=10*cm3, name='radiator')\n",
    "ambient = c.define_node(temperature=300, capacity=np.inf, name='ambient')\n",
    "\n",
    "c.define_thermal_conduction(plate, radiator, R)\n",
    "E_G, epsilon = 1., 1.\n",
    "c.define_thermal_radiation(radiator, ambient, E_G*epsilon*sigma*area)\n",
    "\n",
    "c.define_heater(plate, 10*W)\n",
    "c.setup()"
   ]
  },
  {
   "cell_type": "code",
   "execution_count": 14,
   "id": "62401406-d27f-4b1c-81b1-380f638d2e21",
   "metadata": {},
   "outputs": [
    {
     "name": "stderr",
     "output_type": "stream",
     "text": [
      "100%|████████████████████████████████████████████████████████████████████████████████████████████| 1000/1000 [00:00<00:00, 28064.56it/s]"
     ]
    },
    {
     "name": "stdout",
     "output_type": "stream",
     "text": [
      "CPU times: user 90.2 ms, sys: 20.2 ms, total: 110 ms\n",
      "Wall time: 37.8 ms\n"
     ]
    },
    {
     "name": "stderr",
     "output_type": "stream",
     "text": [
      "\n"
     ]
    }
   ],
   "source": [
    "%%time\n",
    "c.execute(100000, 100)"
   ]
  },
  {
   "cell_type": "code",
   "execution_count": 15,
   "id": "74d66a04-ab6a-43e1-aef1-ad183ca56297",
   "metadata": {},
   "outputs": [
    {
     "data": {
      "text/plain": [
       "Text(0, 0.5, 'Temperature [K]')"
      ]
     },
     "execution_count": 15,
     "metadata": {},
     "output_type": "execute_result"
    },
    {
     "data": {
      "image/png": "[encoded data removed]",
      "text/plain": [
       "<Figure size 432x288 with 1 Axes>"
      ]
     },
     "metadata": {
      "needs_background": "light"
     },
     "output_type": "display_data"
    }
   ],
   "source": [
    "temp = np.array(c.temperatures_history)\n",
    "time = np.array(c.times_history) / 60. /60\n",
    "plt.plot(time, temp[:, 0])\n",
    "plt.plot(time, temp[:, 1])\n",
    "plt.plot(time, temp[:, 2])\n",
    "plt.plot(time, temp[:, 3])\n",
    "plt.xlabel('Time [hour]')\n",
    "plt.ylabel('Temperature [K]')"
   ]
  },
  {
   "cell_type": "code",
   "execution_count": 16,
   "id": "ce031fae-3509-43e6-900e-f7d88d29439a",
   "metadata": {},
   "outputs": [
    {
     "data": {
      "text/plain": [
       "\u001b[0;31mSignature:\u001b[0m \u001b[0mc\u001b[0m\u001b[0;34m.\u001b[0m\u001b[0mdefine_node\u001b[0m\u001b[0;34m(\u001b[0m\u001b[0mtemperature\u001b[0m\u001b[0;34m:\u001b[0m \u001b[0mfloat\u001b[0m\u001b[0;34m,\u001b[0m \u001b[0mcapacity\u001b[0m\u001b[0;34m:\u001b[0m \u001b[0mfloat\u001b[0m\u001b[0;34m,\u001b[0m \u001b[0mname\u001b[0m\u001b[0;34m:\u001b[0m \u001b[0mstr\u001b[0m \u001b[0;34m=\u001b[0m \u001b[0;34m''\u001b[0m\u001b[0;34m)\u001b[0m \u001b[0;34m->\u001b[0m \u001b[0mchill\u001b[0m\u001b[0;34m.\u001b[0m\u001b[0mcore\u001b[0m\u001b[0;34m.\u001b[0m\u001b[0mNode\u001b[0m\u001b[0;34m\u001b[0m\u001b[0;34m\u001b[0m\u001b[0m\n",
       "\u001b[0;31mDocstring:\u001b[0m\n",
       "Defines a new node and adds it to the simulation.\n",
       "\n",
       "Args:\n",
       "    temperature (float): Initial temperature of the node [K].\n",
       "    capacity (float): Thermal capacity of the node [K/J].\n",
       "    name (str, optional): Name of the node. Defaults to an empty string.\n",
       "\n",
       "Returns:\n",
       "    Node: The created node object.\n",
       "\u001b[0;31mFile:\u001b[0m      ~/chill/chill/core.py\n",
       "\u001b[0;31mType:\u001b[0m      method\n"
      ]
     },
     "metadata": {},
     "output_type": "display_data"
    }
   ],
   "source": [
    "c.define_node?"
   ]
  },
  {
   "cell_type": "code",
   "execution_count": 17,
   "id": "73b18082-62fd-45f5-846e-0cee544f5e06",
   "metadata": {},
   "outputs": [
    {
     "data": {
      "text/plain": [
       "\u001b[0;31mSignature:\u001b[0m\n",
       "\u001b[0mc\u001b[0m\u001b[0;34m.\u001b[0m\u001b[0mdefine_thermal_radiation\u001b[0m\u001b[0;34m(\u001b[0m\u001b[0;34m\u001b[0m\n",
       "\u001b[0;34m\u001b[0m    \u001b[0mnode0\u001b[0m\u001b[0;34m:\u001b[0m \u001b[0mchill\u001b[0m\u001b[0;34m.\u001b[0m\u001b[0mcore\u001b[0m\u001b[0;34m.\u001b[0m\u001b[0mNode\u001b[0m\u001b[0;34m,\u001b[0m\u001b[0;34m\u001b[0m\n",
       "\u001b[0;34m\u001b[0m    \u001b[0mnode1\u001b[0m\u001b[0;34m:\u001b[0m \u001b[0mchill\u001b[0m\u001b[0;34m.\u001b[0m\u001b[0mcore\u001b[0m\u001b[0;34m.\u001b[0m\u001b[0mNode\u001b[0m\u001b[0;34m,\u001b[0m\u001b[0;34m\u001b[0m\n",
       "\u001b[0;34m\u001b[0m    \u001b[0mconstant\u001b[0m\u001b[0;34m:\u001b[0m \u001b[0mfloat\u001b[0m\u001b[0;34m,\u001b[0m\u001b[0;34m\u001b[0m\n",
       "\u001b[0;34m\u001b[0m    \u001b[0mname\u001b[0m\u001b[0;34m:\u001b[0m \u001b[0mstr\u001b[0m \u001b[0;34m=\u001b[0m \u001b[0;34m''\u001b[0m\u001b[0;34m,\u001b[0m\u001b[0;34m\u001b[0m\n",
       "\u001b[0;34m\u001b[0m\u001b[0;34m)\u001b[0m \u001b[0;34m->\u001b[0m \u001b[0;32mNone\u001b[0m\u001b[0;34m\u001b[0m\u001b[0;34m\u001b[0m\u001b[0m\n",
       "\u001b[0;31mDocstring:\u001b[0m\n",
       "Defines a thermal radiation edge between two nodes.\n",
       "\n",
       "Args:\n",
       "    node0 (Node): One end of the radiation edge.\n",
       "    node1 (Node): The other end of the radiation edge.\n",
       "    constant (float): Radiation constant.\n",
       "    name (str, optional): Name of the edge. Defaults to an empty string.\n",
       "\u001b[0;31mFile:\u001b[0m      ~/chill/chill/core.py\n",
       "\u001b[0;31mType:\u001b[0m      method\n"
      ]
     },
     "metadata": {},
     "output_type": "display_data"
    }
   ],
   "source": [
    "c.define_thermal_radiation?"
   ]
  },
  {
   "cell_type": "code",
   "execution_count": null,
   "id": "6b5b8514-63d5-437d-9e0e-c67227700c44",
   "metadata": {},
   "outputs": [],
   "source": []
  },
  {
   "cell_type": "markdown",
   "id": "3d718af0-7d87-4ae4-a609-56b999fdd1c5",
   "metadata": {},
   "source": [
    "# example 3\n",
    "\n",
    "Relatively-large model"
   ]
  },
  {
   "cell_type": "code",
   "execution_count": 18,
   "id": "d189a292-e95d-4951-bc3f-00281876f8df",
   "metadata": {},
   "outputs": [
    {
     "name": "stdout",
     "output_type": "stream",
     "text": [
      "CPU times: user 350 ms, sys: 59 ms, total: 409 ms\n",
      "Wall time: 180 ms\n"
     ]
    }
   ],
   "source": [
    "%%time\n",
    "\n",
    "c = Chill()\n",
    "c.dt = 0.1\n",
    "\n",
    "# Alminium - definition\n",
    "rho = 2700 * kg/m3\n",
    "c_p = 900  *J_per_kgK\n",
    "A = 0.01 * m2 \n",
    "h = 0.01 * m\n",
    "C = rho * A * h * c_p # J/K\n",
    "h_c = 22000\n",
    "R = 1/(A*h_c)\n",
    "\n",
    "m, n = 100, 100\n",
    "nodes = [[c.define_node(temperature=300, capacity=C, name=f'{i:08}-{j:08}') for i in range(m)] for j in range(n)]\n",
    "\n",
    "pair_list = \\\n",
    "[((i, j), (i, j + 1)) for i in range(n) for j in range(m - 1)] + \\\n",
    "[((i, j), (i + 1, j)) for i in range(n - 1) for j in range(m)]\n",
    "[c.define_thermal_conduction(nodes[i1][j1], nodes[i2][j2], R) for ((i1, j1), (i2, j2)) in pair_list]\n",
    "\n",
    "ambient = c.define_node(temperature=300, capacity=np.inf, name='ambient')\n",
    "rad_const = E_G*epsilon*sigma*A\n",
    "[c.define_thermal_radiation(node, ambient, rad_const) for node_sub in nodes for node in node_sub]\n",
    "\n",
    "heater = c.define_node(temperature=300, capacity=np.inf, name='heater')\n",
    "c.define_thermal_input(heater, nodes[50][50], 100, 'input')\n",
    "\n",
    "c.setup()"
   ]
  },
  {
   "cell_type": "code",
   "execution_count": null,
   "id": "faaec52e-f4a4-49c5-ada7-17c29c9e490d",
   "metadata": {},
   "outputs": [],
   "source": []
  },
  {
   "cell_type": "code",
   "execution_count": 19,
   "id": "6298b3a0-46b3-4cd9-9b78-f942b55a3c9c",
   "metadata": {},
   "outputs": [
    {
     "name": "stderr",
     "output_type": "stream",
     "text": [
      "100%|██████████████████████████████████████████████████████████████████████████████████████████████████| 10/10 [00:00<00:00, 282.42it/s]"
     ]
    },
    {
     "name": "stdout",
     "output_type": "stream",
     "text": [
      "CPU times: user 28.6 ms, sys: 8.23 ms, total: 36.8 ms\n",
      "Wall time: 37.8 ms\n"
     ]
    },
    {
     "name": "stderr",
     "output_type": "stream",
     "text": [
      "\n"
     ]
    }
   ],
   "source": [
    "%%time\n",
    "c.execute(10, 1)"
   ]
  },
  {
   "cell_type": "code",
   "execution_count": 20,
   "id": "c4f64e8d-b9ba-44b2-a570-3418a0dab73e",
   "metadata": {},
   "outputs": [
    {
     "data": {
      "text/plain": [
       "<matplotlib.colorbar.Colorbar at 0x1683c9940>"
      ]
     },
     "execution_count": 20,
     "metadata": {},
     "output_type": "execute_result"
    },
    {
     "data": {
      "image/png": "[encoded data removed]",
      "text/plain": [
       "<Figure size 432x288 with 2 Axes>"
      ]
     },
     "metadata": {
      "needs_background": "light"
     },
     "output_type": "display_data"
    }
   ],
   "source": [
    "temp = np.array(c.temperatures_history)\n",
    "time = np.array(c.times_history) / 60. /60\n",
    "plt.imshow(temp[-1,:10000].reshape(m, n))\n",
    "plt.colorbar()"
   ]
  },
  {
   "cell_type": "code",
   "execution_count": 21,
   "id": "6491c587-d913-4bd5-884a-b4f44e3558e8",
   "metadata": {},
   "outputs": [
    {
     "data": {
      "text/plain": [
       "Text(0, 0.5, 'Temperature [K]')"
      ]
     },
     "execution_count": 21,
     "metadata": {},
     "output_type": "execute_result"
    },
    {
     "data": {
      "image/png": "[encoded data removed]",
      "text/plain": [
       "<Figure size 432x288 with 1 Axes>"
      ]
     },
     "metadata": {
      "needs_background": "light"
     },
     "output_type": "display_data"
    }
   ],
   "source": [
    "temp = np.array(c.temperatures_history)\n",
    "time = np.array(c.times_history) / 60. /60\n",
    "plt.plot(time, temp[:, 0])\n",
    "plt.plot(time, temp[:, 5050])\n",
    "plt.plot(time, temp[:, 5049])\n",
    "plt.xlabel('Time [hour]')\n",
    "plt.ylabel('Temperature [K]')"
   ]
  },
  {
   "cell_type": "code",
   "execution_count": null,
   "id": "2ab9029a-b16c-41ad-805d-f9a98d1c71db",
   "metadata": {},
   "outputs": [],
   "source": []
  },
  {
   "cell_type": "code",
   "execution_count": 22,
   "id": "b275004b-f8f5-4e3c-b546-ccc25eb9775b",
   "metadata": {},
   "outputs": [
    {
     "name": "stderr",
     "output_type": "stream",
     "text": [
      "100%|█████████████████████████████████████████████████████████████████████████████████████████████████| 100/100 [01:56<00:00,  1.17s/it]"
     ]
    },
    {
     "name": "stdout",
     "output_type": "stream",
     "text": [
      "CPU times: user 1min 43s, sys: 13.4 s, total: 1min 56s\n",
      "Wall time: 1min 56s\n"
     ]
    },
    {
     "name": "stderr",
     "output_type": "stream",
     "text": [
      "\n"
     ]
    }
   ],
   "source": [
    "%%time\n",
    "c.execute(40000, 400)"
   ]
  },
  {
   "cell_type": "code",
   "execution_count": 23,
   "id": "bf3698ea-6bc2-49fe-b882-1acc47b2984e",
   "metadata": {},
   "outputs": [
    {
     "data": {
      "text/plain": [
       "Text(0, 0.5, 'Temperature [K]')"
      ]
     },
     "execution_count": 23,
     "metadata": {},
     "output_type": "execute_result"
    },
    {
     "data": {
      "image/png": "[encoded data removed]",
      "text/plain": [
       "<Figure size 432x288 with 1 Axes>"
      ]
     },
     "metadata": {
      "needs_background": "light"
     },
     "output_type": "display_data"
    }
   ],
   "source": [
    "temp = np.array(c.temperatures_history)\n",
    "time = np.array(c.times_history) / 60. /60\n",
    "plt.plot(time, temp[:, 0])\n",
    "plt.plot(time, temp[:, 5050])\n",
    "plt.plot(time, temp[:, 5049])\n",
    "plt.plot(time, temp[:, 5048])\n",
    "plt.plot(time, temp[:, 5047])\n",
    "plt.xlabel('Time [hour]')\n",
    "plt.ylabel('Temperature [K]')"
   ]
  },
  {
   "cell_type": "code",
   "execution_count": 24,
   "id": "51363b87-667b-4374-a695-e4c7fbb4b048",
   "metadata": {},
   "outputs": [
    {
     "data": {
      "text/plain": [
       "<matplotlib.colorbar.Colorbar at 0x1684e6880>"
      ]
     },
     "execution_count": 24,
     "metadata": {},
     "output_type": "execute_result"
    },
    {
     "data": {
      "image/png": "[encoded data removed]",
      "text/plain": [
       "<Figure size 432x288 with 2 Axes>"
      ]
     },
     "metadata": {
      "needs_background": "light"
     },
     "output_type": "display_data"
    }
   ],
   "source": [
    "plt.imshow(temp[-1,:10000].reshape(m, n))\n",
    "plt.colorbar()"
   ]
  },
  {
   "cell_type": "code",
   "execution_count": null,
   "id": "bea724a4-9de9-4d00-b674-d6198f497ea9",
   "metadata": {},
   "outputs": [],
   "source": []
  },
  {
   "cell_type": "code",
   "execution_count": null,
   "id": "83346ef7-cbc5-434e-997d-46b41bcd6034",
   "metadata": {},
   "outputs": [],
   "source": []
  }
 ],
 "metadata": {
  "kernelspec": {
   "display_name": "Python 3 (ipykernel)",
   "language": "python",
   "name": "python3"
  },
  "language_info": {
   "codemirror_mode": {
    "name": "ipython",
    "version": 3
   },
   "file_extension": ".py",
   "mimetype": "text/x-python",
   "name": "python",
   "nbconvert_exporter": "python",
   "pygments_lexer": "ipython3",
   "version": "3.8.13"
  }
 },
 "nbformat": 4,
 "nbformat_minor": 5
}
